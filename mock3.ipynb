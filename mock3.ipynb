{
 "cells": [
  {
   "cell_type": "code",
   "execution_count": 41,
   "metadata": {},
   "outputs": [],
   "source": [
    "class Stack:\n",
    "    def __init__(self):\n",
    "        self.items = []\n",
    "\n",
    "    def isEmpty(self):\n",
    "        return self.items == []\n",
    "    \n",
    "    def push(self, item):\n",
    "        self.items.insert(0,item)\n",
    "    \n",
    "    def pop(self):\n",
    "        return self.items.pop(0)\n",
    "\n",
    "    \n",
    "    def peek(self):\n",
    "        return self.items[0]"
   ]
  },
  {
   "cell_type": "code",
   "execution_count": 42,
   "metadata": {},
   "outputs": [
    {
     "name": "stdout",
     "output_type": "stream",
     "text": [
      "Stack: [5, 4, 3, 2, 1]\n",
      "Pop: 5\n",
      "Pop: 4\n",
      "Pop: 3\n",
      "Pop: 2\n",
      "Pop: 1\n",
      "Stack: []\n"
     ]
    }
   ],
   "source": [
    "# Driver Code\n",
    "if __name__ == \"__main__\":\n",
    "    s = Stack()\n",
    "\n",
    "    for i in range(1, 6):\n",
    "        s.push(i)\n",
    "    print(f\"Stack: {s.items}\")\n",
    " \n",
    "    while not s.isEmpty():\n",
    "        remove = s.pop()\n",
    "        print(f\"Pop: {remove}\")\n",
    "    print(f\"Stack: {s.items}\")\n"
   ]
  }
 ],
 "metadata": {
  "kernelspec": {
   "display_name": "Python 3.8.10 64-bit",
   "language": "python",
   "name": "python3"
  },
  "language_info": {
   "codemirror_mode": {
    "name": "ipython",
    "version": 3
   },
   "file_extension": ".py",
   "mimetype": "text/x-python",
   "name": "python",
   "nbconvert_exporter": "python",
   "pygments_lexer": "ipython3",
   "version": "3.8.10"
  },
  "orig_nbformat": 4,
  "vscode": {
   "interpreter": {
    "hash": "e7370f93d1d0cde622a1f8e1c04877d8463912d04d973331ad4851f04de6915a"
   }
  }
 },
 "nbformat": 4,
 "nbformat_minor": 2
}
